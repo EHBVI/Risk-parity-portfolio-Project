{
 "cells": [
  {
   "cell_type": "code",
   "execution_count": 14,
   "id": "dded309d-c21c-4fe9-8a54-df890723685c",
   "metadata": {},
   "outputs": [
    {
     "name": "stderr",
     "output_type": "stream",
     "text": [
      "[*********************100%%**********************]  6 of 6 completed"
     ]
    },
    {
     "name": "stdout",
     "output_type": "stream",
     "text": [
      "Ticker      AAPL       BHP          GOOG           JNJ      MSFT      TSLA\n",
      "Ticker                                                                    \n",
      "AAPL    0.000236  0.000019  7.412244e-05  4.709814e-06  0.000070  0.000194\n",
      "BHP     0.000019  0.000220  4.480892e-05  1.144973e-05  0.000043  0.000134\n",
      "GOOG    0.000074  0.000045  3.055401e-04  7.886806e-07  0.000115  0.000003\n",
      "JNJ     0.000005  0.000011  7.886806e-07  8.338207e-05  0.000004 -0.000003\n",
      "MSFT    0.000070  0.000043  1.152599e-04  3.558667e-06  0.000144  0.000064\n",
      "TSLA    0.000194  0.000134  2.801136e-06 -3.225369e-06  0.000064  0.001248\n"
     ]
    },
    {
     "name": "stderr",
     "output_type": "stream",
     "text": [
      "\n"
     ]
    }
   ],
   "source": [
    "import yfinance as yf\n",
    "import pandas as pd\n",
    "import numpy as np\n",
    "from scipy.optimize import minimize # Import the minimize function\n",
    "\n",
    "# Diversified portfolio of six stocks\n",
    "tickers = ['MSFT', 'JNJ', 'AAPL', 'GOOG', 'BHP', 'TSLA']  # Microsoft, Johnson & Johnson, Apple, Google, BHP Billiton, Tesla\n",
    "\n",
    "# Download historical data for the past 6 months\n",
    "data = yf.download(tickers=tickers, period='6mo')['Adj Close']\n",
    "\n",
    "# Keep only the last 5 months of data\n",
    "data = data.iloc[-150:] \n",
    "\n",
    "# Calculate daily returns and create a DataFrame\n",
    "returns = data.pct_change().dropna()  \n",
    "returns_df = pd.DataFrame(returns)\n",
    "\n",
    "# Drop any rows with NaN values (essential for accurate covariance)\n",
    "returns_df.dropna(inplace=True)\n",
    "\n",
    "# Calculate the variance-covariance matrix\n",
    "C = returns_df.cov()\n",
    "\n",
    "print(C)"
   ]
  },
  {
   "cell_type": "code",
   "execution_count": 15,
   "id": "7ccf8d28-a062-4820-80b9-0315ccd81f31",
   "metadata": {},
   "outputs": [
    {
     "name": "stdout",
     "output_type": "stream",
     "text": [
      "Optimization terminated successfully    (Exit mode 0)\n",
      "            Current function value: 2.111575279028734e-05\n",
      "            Iterations: 5\n",
      "            Function evaluations: 35\n",
      "            Gradient evaluations: 5\n",
      "Objective function value at optimal weights: 2.111575279028734e-05\n",
      "Success: True\n",
      "Message: Optimization terminated successfully\n",
      "Optimal weights (Method 1): [0.1778087  0.18159745 0.18612129 0.18099713 0.18389077 0.08958466]\n"
     ]
    }
   ],
   "source": [
    "# --- METHOD 1 IMPLEMENTATION ---\n",
    "\n",
    "w = np.ones(6)/6   # Initial guess for weight matrix (equal weights)\n",
    "cov_matrix_method1 = np.array(C)  # Convert covariance matrix to NumPy array for Method 1\n",
    "\n",
    "def obj_function_method1(w, cov_matrix_method1):\n",
    "    P = cov_matrix_method1 @ w\n",
    "    MCR = P/np.sqrt(w.T @ cov_matrix_method1 @ w)\n",
    "    f = 0.0\n",
    "    for i in range(len(w)):\n",
    "        for j in range(len(w)):\n",
    "            f += (w[i] * MCR[i] - w[j] * MCR[j]) ** 2\n",
    "    return f\n",
    "\n",
    "def objective_method1(w):\n",
    "    return obj_function_method1(w, cov_matrix_method1)\n",
    "\n",
    "# Constraints\n",
    "constraints_method1 = (\n",
    "    {'type': 'eq', 'fun': lambda w: np.sum(w) - 1},  # Sum of weights = 1\n",
    "    {'type': 'ineq', 'fun': lambda w: w}             # Weights are non-negative\n",
    ")\n",
    "\n",
    "# Bounds\n",
    "bounds_1 = [(0, 1) for _ in range(cov_matrix_method1.shape[1])]\n",
    "\n",
    "# Optimize\n",
    "result_method1 = minimize(objective_method1, w, method='SLSQP',constraints=constraints_method1, bounds=bounds_1, options={'disp': True})\n",
    "\n",
    "# Optimal weights\n",
    "optimal_weights_method1 = result_method1.x\n",
    "\n",
    "print(\"Objective function value at optimal weights:\", result_method1.fun)\n",
    "print(\"Success:\", result_method1.success)\n",
    "print(\"Message:\", result_method1.message)\n",
    "print(\"Optimal weights (Method 1):\", optimal_weights_method1)"
   ]
  },
  {
   "cell_type": "code",
   "execution_count": 12,
   "id": "93534bd9-f8e1-462f-b1c7-45268510e6cb",
   "metadata": {},
   "outputs": [
    {
     "name": "stdout",
     "output_type": "stream",
     "text": [
      "Optimization terminated successfully    (Exit mode 0)\n",
      "            Current function value: 0.03856473666691075\n",
      "            Iterations: 25\n",
      "            Function evaluations: 176\n",
      "            Gradient evaluations: 25\n",
      "\n",
      "Optimal weights (Method 2): [0.73698449 0.84602872 0.68739118 1.         0.86984847 0.36301115]\n",
      "Objective function value at optimal weights: 0.03856473666691075\n",
      "Success: True\n",
      "Message: Optimization terminated successfully\n",
      "Normalized weights (Method 2): [0.16365563 0.18787011 0.15264288 0.22206115 0.19315955 0.08061068]\n"
     ]
    }
   ],
   "source": [
    "# --- METHOD 2 IMPLEMENTATION ---\n",
    "\n",
    "w = np.ones(6) / 6  # Initial guess for weight matrix (equal weights)\n",
    "cov_matrix_method2 = np.array(C)  # Convert covariance matrix to NumPy array for Method 2\n",
    "\n",
    "def obj_function_method2(w, cov_matrix_method2):\n",
    "    return np.sqrt(w.T @ cov_matrix_method2 @ w)\n",
    "\n",
    "def objective_method2(w):\n",
    "    return obj_function_method2(w, cov_matrix_method2)\n",
    "\n",
    "# Constraints\n",
    "constraints_method2 = (\n",
    "    {'type': 'ineq', 'fun': lambda w: np.sum(np.log(w)) + 2},  # Logarithmic constraint\n",
    "    {'type': 'ineq', 'fun': lambda w: w}             # Weights are non-negative\n",
    ")\n",
    "\n",
    "# Bounds\n",
    "bounds_2 = [(0, 1) for _ in range(cov_matrix_method2.shape[1])]\n",
    "\n",
    "# Optimize\n",
    "result_method2 = minimize(objective_method2, w, method='SLSQP',constraints=constraints_method2, bounds=bounds_2, options={'disp': True})\n",
    "\n",
    "# Optimal weights\n",
    "optimal_weights_method2 = result_method2.x\n",
    "\n",
    "# Normalize the weights (Method 2)\n",
    "y = np.array(optimal_weights_method2)\n",
    "w_method2 = y / np.sum(y)  # Normalized weights for Method 2\n",
    "\n",
    "print(\"\\nOptimal weights (Method 2):\", optimal_weights_method2)  # Unnormalized weights\n",
    "print(\"Objective function value at optimal weights:\", result_method2.fun)\n",
    "print(\"Success:\", result_method2.success)\n",
    "print(\"Message:\", result_method2.message)\n",
    "print(\"Normalized weights (Method 2):\", w_method2)  # Normalized weights"
   ]
  },
  {
   "cell_type": "code",
   "execution_count": 13,
   "id": "6c46ac03-07f8-4279-a0ec-74d785404593",
   "metadata": {},
   "outputs": [
    {
     "name": "stdout",
     "output_type": "stream",
     "text": [
      "\n",
      "Expected return (Method 2): 0.0008481454142075849\n",
      "Portfolio variance (Method 2): 7.333746982013192e-05\n",
      "Portfolio variance (Market Cap): 0.00011990058810776094\n",
      "\n",
      "Variance difference (Risk Parity - Market Cap): -4.656311828762902e-05\n"
     ]
    }
   ],
   "source": [
    "# --- Calculating Expected Return and Variance using method 2 ---\n",
    "\n",
    "# Let's use Method 2 weights \n",
    "weights_method2 = w_method2  # Normalized weights from Method 2\n",
    "\n",
    "# Calculate portfolio expected return\n",
    "expected_return_method2 = np.sum(weights_method2 * returns_df.mean())\n",
    "\n",
    "# Calculate portfolio variance (Method 2)\n",
    "portfolio_variance_method2 = weights_method2.T @ C @ weights_method2\n",
    "\n",
    "# --- Calculate Market Capitalization Weights ---\n",
    "\n",
    "# Get market cap data from Yahoo Finance (replace with actual data)\n",
    "market_cap_data_for_MSFT = yf.Ticker(\"MSFT\").info['marketCap']\n",
    "market_cap_data_for_JNJ = yf.Ticker(\"JNJ\").info['marketCap']\n",
    "market_cap_data_for_AAPL = yf.Ticker(\"AAPL\").info['marketCap']\n",
    "market_cap_data_for_GOOG = yf.Ticker(\"GOOG\").info['marketCap']\n",
    "market_cap_data_for_BHP = yf.Ticker(\"BHP\").info['marketCap']\n",
    "market_cap_data_for_TSLA = yf.Ticker(\"TSLA\").info['marketCap']\n",
    "\n",
    "market_cap = pd.DataFrame(index=tickers)\n",
    "market_cap['MarketCap'] = [market_cap_data_for_MSFT,\n",
    "                            market_cap_data_for_JNJ,\n",
    "                            market_cap_data_for_AAPL,\n",
    "                            market_cap_data_for_GOOG,\n",
    "                            market_cap_data_for_BHP,\n",
    "                            market_cap_data_for_TSLA]\n",
    "\n",
    "market_cap_weights = market_cap['MarketCap'] / market_cap['MarketCap'].sum()\n",
    "\n",
    "# Calculate portfolio variance (Market Cap)\n",
    "portfolio_variance_market_cap = market_cap_weights.T @ C @ market_cap_weights\n",
    "\n",
    "# --- Output ---\n",
    "\n",
    "print(\"\\nExpected return (Method 2):\", expected_return_method2)\n",
    "print(\"Portfolio variance (Method 2):\", portfolio_variance_method2)\n",
    "print(\"Portfolio variance (Market Cap):\", portfolio_variance_market_cap)\n",
    "\n",
    "# Compare the variances\n",
    "print(\"\\nVariance difference (Risk Parity - Market Cap):\", portfolio_variance_method2 - portfolio_variance_market_cap)"
   ]
  }
 ],
 "metadata": {
  "kernelspec": {
   "display_name": "Python 3 (ipykernel)",
   "language": "python",
   "name": "python3"
  },
  "language_info": {
   "codemirror_mode": {
    "name": "ipython",
    "version": 3
   },
   "file_extension": ".py",
   "mimetype": "text/x-python",
   "name": "python",
   "nbconvert_exporter": "python",
   "pygments_lexer": "ipython3",
   "version": "3.11.7"
  }
 },
 "nbformat": 4,
 "nbformat_minor": 5
}
